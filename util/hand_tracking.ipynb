{
 "cells": [
  {
   "cell_type": "code",
   "execution_count": 2,
   "metadata": {},
   "outputs": [],
   "source": [
    "import cv2 as cv\n",
    "import numpy as np\n",
    "import matplotlib.pyplot as plt\n",
    "\n",
    "from utils import get_face_rect, calculate_adaptive_skin_mask, calculate_mean_deviation"
   ]
  },
  {
   "cell_type": "code",
   "execution_count": 4,
   "metadata": {},
   "outputs": [
    {
     "ename": "error",
     "evalue": "OpenCV(4.5.2) /tmp/pip-req-build-rcdoave0/opencv/modules/imgproc/src/histogram.cpp:993: error: (-215:Assertion failed) mask.empty() || mask.type() == CV_8UC1 in function 'calcHist'\n",
     "output_type": "error",
     "traceback": [
      "\u001b[0;31m---------------------------------------------------------------------------\u001b[0m",
      "\u001b[0;31merror\u001b[0m                                     Traceback (most recent call last)",
      "\u001b[0;32m<ipython-input-4-27c058466d38>\u001b[0m in \u001b[0;36m<module>\u001b[0;34m\u001b[0m\n\u001b[1;32m     30\u001b[0m \u001b[0mmask\u001b[0m \u001b[0;34m=\u001b[0m \u001b[0mcalculate_adaptive_skin_mask\u001b[0m\u001b[0;34m(\u001b[0m\u001b[0mrgb_roi\u001b[0m\u001b[0;34m,\u001b[0m \u001b[0mvals\u001b[0m\u001b[0;34m)\u001b[0m\u001b[0;34m\u001b[0m\u001b[0;34m\u001b[0m\u001b[0m\n\u001b[1;32m     31\u001b[0m \u001b[0;34m\u001b[0m\u001b[0m\n\u001b[0;32m---> 32\u001b[0;31m \u001b[0mroi_hist\u001b[0m \u001b[0;34m=\u001b[0m \u001b[0mcv\u001b[0m\u001b[0;34m.\u001b[0m\u001b[0mcalcHist\u001b[0m\u001b[0;34m(\u001b[0m\u001b[0;34m[\u001b[0m\u001b[0mhsv_roi\u001b[0m\u001b[0;34m]\u001b[0m\u001b[0;34m,\u001b[0m \u001b[0;34m[\u001b[0m\u001b[0;36m0\u001b[0m\u001b[0;34m]\u001b[0m\u001b[0;34m,\u001b[0m \u001b[0mmask\u001b[0m\u001b[0;34m,\u001b[0m \u001b[0;34m[\u001b[0m\u001b[0;36m0\u001b[0m\u001b[0;34m]\u001b[0m\u001b[0;34m,\u001b[0m \u001b[0;34m[\u001b[0m\u001b[0;36m0\u001b[0m\u001b[0;34m,\u001b[0m \u001b[0;36m180\u001b[0m\u001b[0;34m]\u001b[0m\u001b[0;34m)\u001b[0m\u001b[0;34m\u001b[0m\u001b[0;34m\u001b[0m\u001b[0m\n\u001b[0m\u001b[1;32m     33\u001b[0m \u001b[0mcv\u001b[0m\u001b[0;34m.\u001b[0m\u001b[0mnormalize\u001b[0m\u001b[0;34m(\u001b[0m\u001b[0mroi_hist\u001b[0m\u001b[0;34m,\u001b[0m \u001b[0mroi_hist\u001b[0m\u001b[0;34m,\u001b[0m \u001b[0;36m0\u001b[0m\u001b[0;34m,\u001b[0m \u001b[0;36m255\u001b[0m\u001b[0;34m,\u001b[0m \u001b[0mcv\u001b[0m\u001b[0;34m.\u001b[0m\u001b[0mNORM_MINMAX\u001b[0m\u001b[0;34m)\u001b[0m\u001b[0;34m\u001b[0m\u001b[0;34m\u001b[0m\u001b[0m\n\u001b[1;32m     34\u001b[0m \u001b[0;34m\u001b[0m\u001b[0m\n",
      "\u001b[0;31merror\u001b[0m: OpenCV(4.5.2) /tmp/pip-req-build-rcdoave0/opencv/modules/imgproc/src/histogram.cpp:993: error: (-215:Assertion failed) mask.empty() || mask.type() == CV_8UC1 in function 'calcHist'\n"
     ]
    }
   ],
   "source": [
    "# head tracking with camshift\n",
    "cap = cv.VideoCapture(0)\n",
    "\n",
    "hand_cascade = cv.CascadeClassifier('palm.xml')\n",
    "\n",
    "while True:\n",
    "    _, frame = cap.read()\n",
    "    gray = cv.cvtColor(frame, cv.COLOR_BGR2GRAY)\n",
    "    rgb = cv.cvtColor(frame, cv.COLOR_BGR2RGB)\n",
    "\n",
    "    palm = hand_cascade.detectMultiScale(gray)\n",
    "    \n",
    "    if len(palm) == 0:\n",
    "        continue\n",
    "    else:\n",
    "        for (x, y, w, h) in palm:\n",
    "            cv.rectangle(rgb, (x, y), (x+w, y+h), (255, 0, 0), 1)\n",
    "            palm_rect = (x, y, w, h)\n",
    "            palm_roi = rgb[y:y+h, x:x+w]\n",
    "        break\n",
    "\n",
    "_, face_rect = get_face_rect(cap)\n",
    "vals = calculate_mean_deviation(cap)\n",
    "\n",
    "track_window = (0, 0, 250, 250)\n",
    "roi = frame[0:250, 0:250]\n",
    "\n",
    "rgb_roi = cv.cvtColor(roi, cv.COLOR_BGR2RGB)\n",
    "hsv_roi = cv.cvtColor(roi, cv.COLOR_BGR2HSV)\n",
    "mask = calculate_adaptive_skin_mask(rgb_roi, vals)\n",
    "\n",
    "roi_hist = cv.calcHist([hsv_roi], [0], mask, [0], [0, 180])\n",
    "cv.normalize(roi_hist, roi_hist, 0, 255, cv.NORM_MINMAX)\n",
    "\n",
    "term_crit = (cv.TERM_CRITERIA_EPS | cv.TERM_CRITERIA_COUNT, 10, 1)\n",
    "\n",
    "while True:\n",
    "    _, frame = cap.read()\n",
    "    rgb = cv.cvtColor(frame, cv.COLOR_BGR2RGB)\n",
    "    hsv = cv.cvtColor(frame, cv.COLOR_BGR2HSV)\n",
    "\n",
    "    mask = calculate_adaptive_skin_mask(rgb, vals)\n",
    "    dst = cv.calcBackProject([rgb], [0], roi_hist, [0, 256], 1)\n",
    "\n",
    "    \n",
    "    _, track_window = cv.CamShift(dst, track_window, term_crit)\n",
    "\n",
    "    x, y, w, h = track_window\n",
    "    cv.rectangle(frame, (x, y), (x+w, y+h), (0, 255, 0))\n",
    "\n",
    "    x1, y1, w1, h1 = palm_rect\n",
    "    cv.rectangle(frame, (x1-25, y1-25), (x1+w1+25, y1+h1+25), (0, 0, 255))\n",
    "\n",
    "\n",
    "    cv.imshow('dst', dst)\n",
    "    cv.imshow('frame', frame)\n",
    "\n",
    "    if cv.waitKey(1) == ord('q'):\n",
    "        break\n",
    "\n",
    "cap.release()\n",
    "cv.destroyAllWindows()"
   ]
  },
  {
   "cell_type": "code",
   "execution_count": 5,
   "metadata": {},
   "outputs": [
    {
     "name": "stdout",
     "output_type": "stream",
     "text": [
      "(480, 640, 3)\n"
     ]
    }
   ],
   "source": [
    "cap = cv.VideoCapture(0)\n",
    "\n",
    "ret, frame = cap.read()\n",
    "\n",
    "print(frame.shape)#640x360\n",
    "x, y, w, h = 100, 100, 300, 300\n",
    "track_window = (x, y, w, h)\n",
    "\n",
    "roi = frame[y:y + h, x:x + w]\n",
    "hsv_roi = cv.cvtColor(roi, cv.COLOR_BGR2HSV)\n",
    "mask = cv.inRange(hsv_roi, np.array((0., 60., 32.)), np.array((180., 255., 255.)))\n",
    "roi_hist = cv.calcHist([hsv_roi], [0], mask, [180], [0, 180])#Calculate histogram\n",
    "cv.normalize(roi_hist, roi_hist, 0, 255, cv.NORM_MINMAX)\n",
    "\n",
    "term_crit = (cv.TERM_CRITERIA_EPS | cv.TERM_CRITERIA_COUNT, 10, 1)\n",
    "\n",
    "while True:\n",
    "    ret, frame = cap.read()\n",
    "    if ret is True:\n",
    "        hsv = cv.cvtColor(frame, cv.COLOR_BGR2HSV)\n",
    "        dst = cv.calcBackProject([hsv], [0], roi_hist, [0, 180], 1)\n",
    "       \n",
    "        ret, track_window = cv.meanShift(dst, track_window, term_crit)\n",
    "        \n",
    "        x, y, w, h = track_window\n",
    "        \n",
    "        img2 = cv.rectangle(frame, (x, y), (x + w, y + h), (255,0,0), 2)\n",
    "        cv.imshow('img2', img2)\n",
    "        cv.imshow('dst', dst)\n",
    "       \n",
    "        if cv.waitKey(1) == ord('q'):\n",
    "            break\n",
    "    else:\n",
    "        break\n",
    "cv.destroyAllWindows()\n",
    "cap.release()"
   ]
  },
  {
   "cell_type": "code",
   "execution_count": 5,
   "metadata": {},
   "outputs": [],
   "source": [
    "cap.release()"
   ]
  },
  {
   "cell_type": "code",
   "execution_count": 17,
   "metadata": {},
   "outputs": [
    {
     "name": "stdout",
     "output_type": "stream",
     "text": [
      "Saved image\n",
      "Saved image\n",
      "Saved image\n",
      "Saved image\n",
      "Saved image\n",
      "Saved image\n",
      "Saved image\n",
      "Saved image\n",
      "Saved image\n",
      "Saved image\n",
      "Saved image\n",
      "Saved image\n",
      "Saved image\n",
      "Saved image\n",
      "Saved image\n",
      "Saved image\n",
      "Saved image\n",
      "Saved image\n",
      "Saved image\n",
      "Saved image\n",
      "Saved image\n",
      "Saved image\n",
      "Saved image\n",
      "Saved image\n",
      "Saved image\n",
      "Saved image\n",
      "Saved image\n",
      "Saved image\n",
      "Saved image\n",
      "Saved image\n",
      "Saved image\n",
      "Saved image\n"
     ]
    }
   ],
   "source": [
    "cap = cv.VideoCapture(0)\n",
    "i = 0\n",
    "j = 0\n",
    "\n",
    "ret,frame = cap.read()\n",
    "\n",
    "x, y, w, h = 0, 0, 250, 250 # simply hardcoded the values\n",
    "track_window = (x, y, w, h)\n",
    "\n",
    "roi = frame[y:y+h, x:x+w]\n",
    "hsv_roi =  cv.cvtColor(roi, cv.COLOR_BGR2HSV)\n",
    "_, face_rect = get_face_rect(cap)\n",
    "vals = calculate_mean_deviation(cap)\n",
    "mask = calculate_adaptive_skin_mask(roi, vals, hide_rect=face_rect)\n",
    "\n",
    "mask = cv.inRange(hsv_roi, np.array((0., 60.,32.)), np.array((180.,255.,255.)))\n",
    "roi_hist = cv.calcHist([hsv_roi],[0],mask,[180],[0,180])\n",
    "cv.normalize(roi_hist,roi_hist,0,255,cv.NORM_MINMAX)\n",
    "\n",
    "term_crit = ( cv.TERM_CRITERIA_EPS | cv.TERM_CRITERIA_COUNT, 10, 1 )\n",
    "while(1):\n",
    "    ret, frame = cap.read()\n",
    "    if ret == True:\n",
    "        hsv = cv.cvtColor(frame, cv.COLOR_BGR2HSV)\n",
    "        dst = cv.calcBackProject([hsv],[0],roi_hist,[0,180],1)\n",
    "       \n",
    "        ret, track_window = cv.meanShift(dst, track_window, term_crit)\n",
    "        \n",
    "        x,y,w,h = track_window\n",
    "        img2 = cv.rectangle(frame, (x,y), (x+w,y+h), 255,2)\n",
    "        \n",
    "        cv.imshow('img2',img2)\n",
    "        cv.imshow('dst', dst)\n",
    "        \n",
    "        if i == 60:\n",
    "            i = 0\n",
    "            cv.imwrite(f'../tracking/{j}.jpg', img2)\n",
    "            j += 1\n",
    "            print('Saved image')\n",
    "        else:\n",
    "            i += 1\n",
    "\n",
    "        if cv.waitKey(1) == ord('q'):\n",
    "            break\n",
    "    else:\n",
    "        break\n",
    "\n",
    "cap.release()\n",
    "cv.destroyAllWindows()"
   ]
  },
  {
   "cell_type": "code",
   "execution_count": 16,
   "metadata": {},
   "outputs": [],
   "source": [
    "cap.release()"
   ]
  }
 ],
 "metadata": {
  "interpreter": {
   "hash": "8c3241b14a174ce824ecfed2f51a91e52860625afee5d3aea0e6a8664c8e132f"
  },
  "kernelspec": {
   "display_name": "Python 3.8.9 64-bit ('asl-translator-XVB9uddP-py3.8': poetry)",
   "name": "python3"
  },
  "language_info": {
   "codemirror_mode": {
    "name": "ipython",
    "version": 3
   },
   "file_extension": ".py",
   "mimetype": "text/x-python",
   "name": "python",
   "nbconvert_exporter": "python",
   "pygments_lexer": "ipython3",
   "version": "3.8.9"
  },
  "orig_nbformat": 2
 },
 "nbformat": 4,
 "nbformat_minor": 2
}