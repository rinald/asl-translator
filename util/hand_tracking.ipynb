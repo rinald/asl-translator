{
 "cells": [
  {
   "cell_type": "code",
   "execution_count": 43,
   "metadata": {},
   "outputs": [],
   "source": [
    "import cv2 as cv\n",
    "import numpy as np\n",
    "import matplotlib.pyplot as plt\n",
    "\n",
    "from utils import get_face_rect, calculate_adaptive_skin_mask, calculate_mean_deviation"
   ]
  },
  {
   "cell_type": "code",
   "execution_count": 44,
   "metadata": {},
   "outputs": [
    {
     "name": "stdout",
     "output_type": "stream",
     "text": [
      "[[[186 196 206]\n",
      "  [183 194 204]\n",
      "  [185 195 205]\n",
      "  ...\n",
      "  [177 180 178]\n",
      "  [178 182 179]\n",
      "  [173 176 173]]\n",
      "\n",
      " [[186 196 206]\n",
      "  [185 195 205]\n",
      "  [185 195 205]\n",
      "  ...\n",
      "  [180 183 180]\n",
      "  [178 182 179]\n",
      "  [175 178 175]]\n",
      "\n",
      " [[183 195 202]\n",
      "  [183 195 202]\n",
      "  [185 196 203]\n",
      "  ...\n",
      "  [182 185 182]\n",
      "  [181 184 181]\n",
      "  [180 183 180]]\n",
      "\n",
      " ...\n",
      "\n",
      " [[ 62  55  63]\n",
      "  [ 61  58  74]\n",
      "  [ 60  56  73]\n",
      "  ...\n",
      "  [195 212 210]\n",
      "  [195 212 210]\n",
      "  [193 210 207]]\n",
      "\n",
      " [[ 60  55  63]\n",
      "  [ 55  52  68]\n",
      "  [ 53  49  66]\n",
      "  ...\n",
      "  [194 211 208]\n",
      "  [193 210 207]\n",
      "  [192 209 206]]\n",
      "\n",
      " [[ 56  53  62]\n",
      "  [ 50  48  66]\n",
      "  [ 45  43  62]\n",
      "  ...\n",
      "  [193 210 207]\n",
      "  [193 210 207]\n",
      "  [193 210 207]]]\n"
     ]
    },
    {
     "ename": "error",
     "evalue": "OpenCV(4.5.2) /tmp/pip-req-build-rcdoave0/opencv/modules/imgproc/src/histogram.cpp:993: error: (-215:Assertion failed) mask.empty() || mask.type() == CV_8UC1 in function 'calcHist'\n",
     "output_type": "error",
     "traceback": [
      "\u001b[0;31m---------------------------------------------------------------------------\u001b[0m",
      "\u001b[0;31merror\u001b[0m                                     Traceback (most recent call last)",
      "\u001b[0;32m<ipython-input-44-920762c9ddf6>\u001b[0m in \u001b[0;36m<module>\u001b[0;34m\u001b[0m\n\u001b[1;32m     30\u001b[0m \u001b[0mmask\u001b[0m \u001b[0;34m=\u001b[0m \u001b[0mcalculate_adaptive_skin_mask\u001b[0m\u001b[0;34m(\u001b[0m\u001b[0mrgb_roi\u001b[0m\u001b[0;34m,\u001b[0m \u001b[0mvals\u001b[0m\u001b[0;34m)\u001b[0m\u001b[0;34m\u001b[0m\u001b[0;34m\u001b[0m\u001b[0m\n\u001b[1;32m     31\u001b[0m \u001b[0mplt\u001b[0m\u001b[0;34m.\u001b[0m\u001b[0mimshow\u001b[0m\u001b[0;34m(\u001b[0m\u001b[0mmask\u001b[0m\u001b[0;34m,\u001b[0m \u001b[0;34m'gray'\u001b[0m\u001b[0;34m)\u001b[0m\u001b[0;34m\u001b[0m\u001b[0;34m\u001b[0m\u001b[0m\n\u001b[0;32m---> 32\u001b[0;31m \u001b[0mroi_hist\u001b[0m \u001b[0;34m=\u001b[0m \u001b[0mcv\u001b[0m\u001b[0;34m.\u001b[0m\u001b[0mcalcHist\u001b[0m\u001b[0;34m(\u001b[0m\u001b[0;34m[\u001b[0m\u001b[0mrgb_roi\u001b[0m\u001b[0;34m]\u001b[0m\u001b[0;34m,\u001b[0m \u001b[0;34m[\u001b[0m\u001b[0;36m0\u001b[0m\u001b[0;34m]\u001b[0m\u001b[0;34m,\u001b[0m \u001b[0mmask\u001b[0m\u001b[0;34m,\u001b[0m \u001b[0;34m[\u001b[0m\u001b[0;36m0\u001b[0m\u001b[0;34m]\u001b[0m\u001b[0;34m,\u001b[0m \u001b[0;34m[\u001b[0m\u001b[0;36m0\u001b[0m\u001b[0;34m,\u001b[0m \u001b[0;36m256\u001b[0m\u001b[0;34m]\u001b[0m\u001b[0;34m)\u001b[0m\u001b[0;34m\u001b[0m\u001b[0;34m\u001b[0m\u001b[0m\n\u001b[0m\u001b[1;32m     33\u001b[0m \u001b[0;34m\u001b[0m\u001b[0m\n\u001b[1;32m     34\u001b[0m \u001b[0mterm_crit\u001b[0m \u001b[0;34m=\u001b[0m \u001b[0;34m(\u001b[0m\u001b[0mcv\u001b[0m\u001b[0;34m.\u001b[0m\u001b[0mTERM_CRITERIA_EPS\u001b[0m \u001b[0;34m|\u001b[0m \u001b[0mcv\u001b[0m\u001b[0;34m.\u001b[0m\u001b[0mTERM_CRITERIA_COUNT\u001b[0m\u001b[0;34m,\u001b[0m \u001b[0;36m10\u001b[0m\u001b[0;34m,\u001b[0m \u001b[0;36m1\u001b[0m\u001b[0;34m)\u001b[0m\u001b[0;34m\u001b[0m\u001b[0;34m\u001b[0m\u001b[0m\n",
      "\u001b[0;31merror\u001b[0m: OpenCV(4.5.2) /tmp/pip-req-build-rcdoave0/opencv/modules/imgproc/src/histogram.cpp:993: error: (-215:Assertion failed) mask.empty() || mask.type() == CV_8UC1 in function 'calcHist'\n"
     ]
    },
    {
     "data": {
      "image/png": "[encoded data removed]",
      "text/plain": [
       "<Figure size 432x288 with 1 Axes>"
      ]
     },
     "metadata": {
      "needs_background": "light"
     },
     "output_type": "display_data"
    }
   ],
   "source": [
    "# head tracking with camshift\n",
    "cap = cv.VideoCapture(0)\n",
    "\n",
    "hand_cascade = cv.CascadeClassifier('palm.xml')\n",
    "\n",
    "while True:\n",
    "    _, frame = cap.read()\n",
    "    gray = cv.cvtColor(frame, cv.COLOR_BGR2GRAY)\n",
    "    rgb = cv.cvtColor(frame, cv.COLOR_BGR2RGB)\n",
    "\n",
    "    palm = hand_cascade.detectMultiScale(gray)\n",
    "    \n",
    "    if len(palm) == 0:\n",
    "        continue\n",
    "    else:\n",
    "        for (x, y, w, h) in palm:\n",
    "            cv.rectangle(rgb, (x, y), (x+w, y+h), (255, 0, 0), 1)\n",
    "            palm_rect = (x, y, w, h)\n",
    "            palm_roi = rgb[y:y+h, x:x+w]\n",
    "        break\n",
    "\n",
    "_, face_rect = get_face_rect(cap)\n",
    "# (fx, fy, fw, fh) = face_rect\n",
    "vals = calculate_mean_deviation(cap)\n",
    "\n",
    "track_window = (x-25, y-25, w+50, h+50)\n",
    "roi = frame[y-25:y+h+25, x-25:x+w+25]\n",
    "print(roi)\n",
    "rgb_roi = cv.cvtColor(roi, cv.COLOR_BGR2RGB)\n",
    "mask = calculate_adaptive_skin_mask(rgb_roi, vals)\n",
    "plt.imshow(mask, 'gray')\n",
    "roi_hist = cv.calcHist([rgb_roi], [0], mask, [0], [0, 256])\n",
    "\n",
    "term_crit = (cv.TERM_CRITERIA_EPS | cv.TERM_CRITERIA_COUNT, 10, 1)\n",
    "\n",
    "while True:\n",
    "    _, frame = cap.read()\n",
    "    rgb = cv.cvtColor(frame, cv.COLOR_BGR2RGB)\n",
    "    # ycrcb = cv.cvtColor(frame, cv.COLOR_BGR2YCR_CB)\n",
    "    # mask = calculate_adaptive_skin_mask(rgb, vals, hide_rect=face_rect)\n",
    "\n",
    "    # dst = cv.calcBackProject([rgb], [0], roi_hist, [0, 256], 1)\n",
    "    \n",
    "    # _, track_window = cv.CamShift(dst, track_window, term_crit)\n",
    "\n",
    "    x, y, w, h = track_window\n",
    "    cv.rectangle(frame, (x, y), (x+w, y+h), (0, 255, 0))\n",
    "\n",
    "    x1, y1, w1, h1 = palm_rect\n",
    "    cv.rectangle(frame, (x1-25, y1-25), (x1+w1+25, y1+h1+25), (0, 0, 255))\n",
    "\n",
    "\n",
    "    # cv.imshow('dst', dst)\n",
    "    cv.imshow('frame', frame)\n",
    "\n",
    "    if cv.waitKey(1) == ord('q'):\n",
    "        break\n",
    "\n",
    "cap.release()\n",
    "cv.destroyAllWindows()"
   ]
  },
  {
   "cell_type": "code",
   "execution_count": 5,
   "metadata": {},
   "outputs": [
    {
     "name": "stdout",
     "output_type": "stream",
     "text": [
      "(480, 640, 3)\n"
     ]
    }
   ],
   "source": [
    "cap = cv.VideoCapture(0)\n",
    "\n",
    "ret, frame = cap.read()\n",
    "\n",
    "print(frame.shape)#640x360\n",
    "x, y, w, h = 100, 100, 300, 300\n",
    "track_window = (x, y, w, h)\n",
    "\n",
    "roi = frame[y:y + h, x:x + w]\n",
    "hsv_roi = cv.cvtColor(roi, cv.COLOR_BGR2HSV)\n",
    "mask = cv.inRange(hsv_roi, np.array((0., 60., 32.)), np.array((180., 255., 255.)))\n",
    "roi_hist = cv.calcHist([hsv_roi], [0], mask, [180], [0, 180])#Calculate histogram\n",
    "cv.normalize(roi_hist, roi_hist, 0, 255, cv.NORM_MINMAX)\n",
    "\n",
    "term_crit = (cv.TERM_CRITERIA_EPS | cv.TERM_CRITERIA_COUNT, 10, 1)\n",
    "\n",
    "while True:\n",
    "    ret, frame = cap.read()\n",
    "    if ret is True:\n",
    "        hsv = cv.cvtColor(frame, cv.COLOR_BGR2HSV)\n",
    "        dst = cv.calcBackProject([hsv], [0], roi_hist, [0, 180], 1)\n",
    "       \n",
    "        ret, track_window = cv.meanShift(dst, track_window, term_crit)\n",
    "        \n",
    "        x, y, w, h = track_window\n",
    "        \n",
    "        img2 = cv.rectangle(frame, (x, y), (x + w, y + h), (255,0,0), 2)\n",
    "        cv.imshow('img2', img2)\n",
    "        cv.imshow('dst', dst)\n",
    "       \n",
    "        if cv.waitKey(1) == ord('q'):\n",
    "            break\n",
    "    else:\n",
    "        break\n",
    "cv.destroyAllWindows()\n",
    "cap.release()"
   ]
  },
  {
   "cell_type": "code",
   "execution_count": 45,
   "metadata": {},
   "outputs": [],
   "source": [
    "cap.release()"
   ]
  }
 ],
 "metadata": {
  "interpreter": {
   "hash": "8c3241b14a174ce824ecfed2f51a91e52860625afee5d3aea0e6a8664c8e132f"
  },
  "kernelspec": {
   "display_name": "Python 3.8.9 64-bit ('asl-translator-XVB9uddP-py3.8': poetry)",
   "name": "python3"
  },
  "language_info": {
   "codemirror_mode": {
    "name": "ipython",
    "version": 3
   },
   "file_extension": ".py",
   "mimetype": "text/x-python",
   "name": "python",
   "nbconvert_exporter": "python",
   "pygments_lexer": "ipython3",
   "version": "3.8.9"
  },
  "orig_nbformat": 2
 },
 "nbformat": 4,
 "nbformat_minor": 2
}