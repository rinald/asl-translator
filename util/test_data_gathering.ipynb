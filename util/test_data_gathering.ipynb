{
 "cells": [
  {
   "cell_type": "code",
   "execution_count": 1,
   "metadata": {},
   "outputs": [],
   "source": [
    "import cv2 as cv\n",
    "import numpy as np"
   ]
  },
  {
   "cell_type": "code",
   "execution_count": 2,
   "metadata": {},
   "outputs": [],
   "source": [
    "cap = cv.VideoCapture(0)\n",
    "\n",
    "window = (0,0,250,250)\n",
    "\n",
    "while True:\n",
    "    _, frame = cap.read()\n",
    "    roi = frame[0:250, 0:250]\n",
    "    \n",
    "    cv.imshow('roi', roi)\n",
    "\n",
    "    if cv.waitKey(1) == ord('q'):\n",
    "        break\n",
    "\n",
    "for i in range(1000):\n",
    "    _, frame = cap.read()\n",
    "    roi = frame[0:250, 0:250]\n",
    "\n",
    "    roi_small = cv.resize(roi, (64, 64))\n",
    "    cv.imwrite(f'../asl_alphabet_test/del/{i}.jpg', roi_small)\n",
    "\n",
    "\n",
    "cap.release()\n",
    "cv.destroyAllWindows()"
   ]
  },
  {
   "cell_type": "code",
   "execution_count": 48,
   "metadata": {},
   "outputs": [],
   "source": [
    "cap.release()"
   ]
  }
 ],
 "metadata": {
  "interpreter": {
   "hash": "8c3241b14a174ce824ecfed2f51a91e52860625afee5d3aea0e6a8664c8e132f"
  },
  "kernelspec": {
   "display_name": "Python 3.8.9 64-bit ('asl-translator-XVB9uddP-py3.8': poetry)",
   "name": "python3"
  },
  "language_info": {
   "name": "python",
   "version": ""
  },
  "orig_nbformat": 4
 },
 "nbformat": 4,
 "nbformat_minor": 2
}