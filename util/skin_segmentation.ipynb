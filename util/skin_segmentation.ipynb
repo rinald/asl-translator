{
 "cells": [
  {
   "cell_type": "code",
   "execution_count": null,
   "metadata": {},
   "outputs": [],
   "source": [
    "# sample opencv code\n",
    "import cv2 as cv\n",
    "import numpy as np\n",
    "import matplotlib.pyplot as plt"
   ]
  },
  {
   "cell_type": "code",
   "execution_count": null,
   "metadata": {},
   "outputs": [],
   "source": [
    "# RGB masking\n",
    "cap = cv.VideoCapture(0)\n",
    "\n",
    "while True:\n",
    "    _, frame = cap.read()\n",
    "\n",
    "    (B, G, R) = cv.split(frame)\n",
    "\n",
    "    # calculate individual conditions\n",
    "    _, t1 = cv.threshold(R, 95, 255, cv.THRESH_BINARY)\n",
    "    _, t2 = cv.threshold(G, 40, 255, cv.THRESH_BINARY)\n",
    "    _, t3 = cv.threshold(B, 20, 255, cv.THRESH_BINARY)\n",
    "\n",
    "    _, t4 = cv.threshold(np.maximum(np.maximum(R, G), B) - np.minimum(np.minimum(R, G), B), 15, 255, cv.THRESH_BINARY)\n",
    "    _, t5 = cv.threshold(np.maximum(R, G) - np.minimum(R, G), 15, 255, cv.THRESH_BINARY)\n",
    "    _, t6 = cv.threshold(R-G, 1, 255, cv.THRESH_BINARY)\n",
    "    _, t7 = cv.threshold(R-B, 1, 255, cv.THRESH_BINARY)\n",
    "\n",
    "\n",
    "    t = cv.bitwise_and(t1, t2)\n",
    "    t = cv.bitwise_and(t, t3)\n",
    "    t = cv.bitwise_and(t, t4)\n",
    "    t = cv.bitwise_and(t, t5)\n",
    "    t = cv.bitwise_and(t, t6)\n",
    "    t = cv.bitwise_and(t, t7)\n",
    "\n",
    "    cv.imshow('frame', frame)\n",
    "    cv.imshow('rgb mask', t)\n",
    "    if cv.waitKey(1) == ord('q'):\n",
    "        break\n",
    "\n",
    "cap.release()\n",
    "cv.destroyAllWindows()"
   ]
  },
  {
   "cell_type": "code",
   "execution_count": null,
   "metadata": {},
   "outputs": [],
   "source": [
    "# rg masking\n",
    "\n",
    "cap = cv.VideoCapture(0)\n",
    "\n",
    "while True:\n",
    "    _, frame = cap.read()\n",
    "\n",
    "    (B, G, R) = cv.split(frame)\n",
    "    \n",
    "    r = np.nan_to_num(R / (R + G + B))\n",
    "    g = np.nan_to_num(G / (R + G + B))\n",
    "\n",
    "    Qp = -1.3767*r**2 + 1.0743*r + 0.1452\n",
    "    Qm = -0.776*r**2 + 0.5601*r + 0.1766\n",
    "    W = (r - 0.33)**2 + (g - 0.33)**2\n",
    "\n",
    "\n",
    "    _, t1 = cv.threshold(Qp-g, 0, 255, cv.THRESH_BINARY)\n",
    "    _, t2 = cv.threshold(g-Qm, 0, 255, cv.THRESH_BINARY)\n",
    "    _, t3 = cv.threshold(W, 0.0004, 255, cv.THRESH_BINARY)\n",
    "    _, t4 = cv.threshold(r-0.2, 0, 255, cv.THRESH_BINARY)\n",
    "    _, t5 = cv.threshold(0.6-r, 0, 255, cv.THRESH_BINARY)\n",
    "\n",
    "    \n",
    "    t = cv.bitwise_and(t1, t2)\n",
    "    t = cv.bitwise_and(t, t3)\n",
    "    t = cv.bitwise_and(t, t4)\n",
    "\n",
    "    cv.imshow('frame', frame)\n",
    "    cv.imshow('rg mask', t)\n",
    "    if cv.waitKey(1) == ord('q'):\n",
    "        break\n",
    "\n",
    "\n",
    "cap.release()\n",
    "cv.destroyAllWindows()"
   ]
  },
  {
   "cell_type": "code",
   "execution_count": 27,
   "metadata": {},
   "outputs": [],
   "source": [
    "# YCrCb masking\n",
    "cap = cv.VideoCapture(0)\n",
    "\n",
    "while True:\n",
    "    _, frame = cap.read()\n",
    "\n",
    "    ycrcb = cv.cvtColor(frame, cv.COLOR_BGR2YCR_CB)\n",
    "    (_, Cr, Cb) = cv.split(ycrcb)\n",
    "\n",
    "    t1 = cv.inRange(ycrcb, (0, 137, 77), (255, 177, 127))\n",
    "    _, t2 = cv.threshold(Cb + 0.6*Cr, 190, 215, cv.THRESH_BINARY)\n",
    "    t2 = t2.astype(np.uint8)\n",
    "\n",
    "    t = cv.bitwise_and(t1, t2)\n",
    "\n",
    "    cv.imshow('frame', frame)\n",
    "    cv.imshow('ycrcb mask', t)\n",
    "    if cv.waitKey(1) == ord('q'):\n",
    "        break\n",
    "\n",
    "\n",
    "cap.release()\n",
    "cv.destroyAllWindows()"
   ]
  },
  {
   "cell_type": "code",
   "execution_count": null,
   "metadata": {},
   "outputs": [],
   "source": []
  },
  {
   "cell_type": "code",
   "execution_count": null,
   "metadata": {},
   "outputs": [],
   "source": [
    "cap.release()\n",
    "cv.destroyAllWindows()"
   ]
  }
 ],
 "metadata": {
  "interpreter": {
   "hash": "8c3241b14a174ce824ecfed2f51a91e52860625afee5d3aea0e6a8664c8e132f"
  },
  "kernelspec": {
   "display_name": "Python 3.8.9 64-bit ('asl-translator-XVB9uddP-py3.8': poetry)",
   "name": "python3"
  },
  "language_info": {
   "codemirror_mode": {
    "name": "ipython",
    "version": 3
   },
   "file_extension": ".py",
   "mimetype": "text/x-python",
   "name": "python",
   "nbconvert_exporter": "python",
   "pygments_lexer": "ipython3",
   "version": "3.8.9"
  },
  "orig_nbformat": 4
 },
 "nbformat": 4,
 "nbformat_minor": 2
}